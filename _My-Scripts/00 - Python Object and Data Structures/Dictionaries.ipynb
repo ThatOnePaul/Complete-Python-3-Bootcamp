{
 "cells": [
  {
   "cell_type": "markdown",
   "metadata": {},
   "source": [
    "# Dictionary\n",
    "\n",
    "Dictionaries, are unordered, and cannot be sorted.\n",
    "\n",
    "Lists, ordered sequences that can be indexed or sliced."
   ]
  },
  {
   "cell_type": "code",
   "execution_count": 2,
   "metadata": {},
   "outputs": [
    {
     "data": {
      "text/plain": [
       "{'key1': 'value1', 'key2': 'value2'}"
      ]
     },
     "execution_count": 2,
     "metadata": {},
     "output_type": "execute_result"
    }
   ],
   "source": [
    "{'key1':'value1', 'key2':'value2'} # syntax!"
   ]
  },
  {
   "cell_type": "markdown",
   "metadata": {},
   "source": [
    "### Keys\n",
    "\n",
    "keys should be strings"
   ]
  },
  {
   "cell_type": "code",
   "execution_count": 5,
   "metadata": {},
   "outputs": [
    {
     "name": "stdout",
     "output_type": "stream",
     "text": [
      "value1\n",
      "value2\n"
     ]
    }
   ],
   "source": [
    "my_dict = {'key1':'value1', 'key2':'value2'}\n",
    "print(my_dict['key1'])\n",
    "print(my_dict['key2'])"
   ]
  },
  {
   "cell_type": "code",
   "execution_count": 12,
   "metadata": {},
   "outputs": [
    {
     "name": "stdout",
     "output_type": "stream",
     "text": [
      "apple: $2.99\n",
      "apple: $3.99\n",
      "apple: $5.00\n"
     ]
    }
   ],
   "source": [
    "prices_lookup = {'apple':2.99, 'orange':3.99, 'milk':5}\n",
    "print('apple: ${p:1.2f}'.format(p = prices_lookup['apple']))\n",
    "print('apple: ${p:1.2f}'.format(p = prices_lookup['orange']))\n",
    "print('apple: ${p:1.2f}'.format(p = prices_lookup['milk']))"
   ]
  },
  {
   "cell_type": "markdown",
   "metadata": {},
   "source": [
    "## Mixed datatypes in Dictionary"
   ]
  },
  {
   "cell_type": "code",
   "execution_count": 22,
   "metadata": {},
   "outputs": [
    {
     "name": "stdout",
     "output_type": "stream",
     "text": [
      "k1:     123\n",
      "k2:     [1, 2, 3]\n",
      "k2_i2:  3\n",
      "k3:     {'ik1': 'inside key'}\n",
      "k3-ik1: inside key\n"
     ]
    }
   ],
   "source": [
    "d = {'k1':123, 'k2':[1,2,3], 'k3':{'ik1':'inside key'}}\n",
    "print(f\"k1:     {d['k1']}\")\n",
    "print(f\"k2:     {d['k2']}\")\n",
    "print(f\"k2_i2:  {d['k2'][2]}\")\n",
    "print(f\"k3:     {d['k3']}\")\n",
    "print(f\"k3-ik1: {d['k3']['ik1']}\")"
   ]
  },
  {
   "cell_type": "code",
   "execution_count": 23,
   "metadata": {},
   "outputs": [
    {
     "data": {
      "text/plain": [
       "{'k': [1, 2, 3, 5]}"
      ]
     },
     "execution_count": 23,
     "metadata": {},
     "output_type": "execute_result"
    }
   ],
   "source": [
    "d = {'k':[1,2,3,4]}\n",
    "d['k'][3] = 5\n",
    "d"
   ]
  },
  {
   "cell_type": "code",
   "execution_count": 25,
   "metadata": {},
   "outputs": [
    {
     "data": {
      "text/plain": [
       "'C'"
      ]
     },
     "execution_count": 25,
     "metadata": {},
     "output_type": "execute_result"
    }
   ],
   "source": [
    "d = {'k':['a', 'b', 'c']}\n",
    "l = d['k']\n",
    "c = l[2]\n",
    "c.upper()"
   ]
  },
  {
   "cell_type": "code",
   "execution_count": 24,
   "metadata": {},
   "outputs": [
    {
     "data": {
      "text/plain": [
       "'C'"
      ]
     },
     "execution_count": 24,
     "metadata": {},
     "output_type": "execute_result"
    }
   ],
   "source": [
    "d = {'k':['a', 'b', 'c']}\n",
    "d['k'][2].upper()"
   ]
  },
  {
   "cell_type": "markdown",
   "metadata": {},
   "source": [
    "## Adding/overriding keys"
   ]
  },
  {
   "cell_type": "code",
   "execution_count": 30,
   "metadata": {},
   "outputs": [
    {
     "name": "stdout",
     "output_type": "stream",
     "text": [
      "{'k1': 1, 'k2': 2}\n",
      "{'k1': 1, 'k2': 2, 'k3': 3}\n",
      "{'k1': 1, 'k2': 'OVERRIDE', 'k3': 3}\n"
     ]
    }
   ],
   "source": [
    "d = {'k1':1, 'k2':2}\n",
    "print(d)\n",
    "d['k3'] = 3\n",
    "print(d)\n",
    "d['k2'] = 'OVERRIDE'\n",
    "print(d)"
   ]
  },
  {
   "cell_type": "markdown",
   "metadata": {},
   "source": [
    "## Common functions"
   ]
  },
  {
   "cell_type": "code",
   "execution_count": 31,
   "metadata": {},
   "outputs": [
    {
     "data": {
      "text/plain": [
       "dict_keys(['k1', 'k2', 'k3'])"
      ]
     },
     "execution_count": 31,
     "metadata": {},
     "output_type": "execute_result"
    }
   ],
   "source": [
    "d = {'k1':1, 'k2':2, 'k3':3}\n",
    "d.keys()"
   ]
  },
  {
   "cell_type": "code",
   "execution_count": 34,
   "metadata": {},
   "outputs": [
    {
     "data": {
      "text/plain": [
       "dict_values([1, 2, 3])"
      ]
     },
     "execution_count": 34,
     "metadata": {},
     "output_type": "execute_result"
    }
   ],
   "source": [
    "d = {'k1':1, 'k2':2, 'k3':3}\n",
    "d.values()"
   ]
  },
  {
   "cell_type": "code",
   "execution_count": 35,
   "metadata": {},
   "outputs": [
    {
     "data": {
      "text/plain": [
       "dict_items([('k1', 1), ('k2', 2), ('k3', 3)])"
      ]
     },
     "execution_count": 35,
     "metadata": {},
     "output_type": "execute_result"
    }
   ],
   "source": [
    "d = {'k1':1, 'k2':2, 'k3':3}\n",
    "d.items()"
   ]
  },
  {
   "cell_type": "code",
   "execution_count": null,
   "metadata": {},
   "outputs": [],
   "source": []
  }
 ],
 "metadata": {
  "kernelspec": {
   "display_name": "Python 3",
   "language": "python",
   "name": "python3"
  },
  "language_info": {
   "codemirror_mode": {
    "name": "ipython",
    "version": 3
   },
   "file_extension": ".py",
   "mimetype": "text/x-python",
   "name": "python",
   "nbconvert_exporter": "python",
   "pygments_lexer": "ipython3",
   "version": "3.6.5"
  }
 },
 "nbformat": 4,
 "nbformat_minor": 2
}
