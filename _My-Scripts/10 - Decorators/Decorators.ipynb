{
 "cells": [
  {
   "cell_type": "code",
   "execution_count": 1,
   "metadata": {},
   "outputs": [],
   "source": [
    "def func():\n",
    "    return 1"
   ]
  },
  {
   "cell_type": "code",
   "execution_count": 2,
   "metadata": {},
   "outputs": [
    {
     "name": "stdout",
     "output_type": "stream",
     "text": [
      "1\n",
      "<function func at 0x111167400>\n"
     ]
    }
   ],
   "source": [
    "print(func())\n",
    "print(func)"
   ]
  },
  {
   "cell_type": "code",
   "execution_count": 10,
   "metadata": {},
   "outputs": [
    {
     "name": "stdout",
     "output_type": "stream",
     "text": [
      "Hello: <function hello at 0x1111679d8>\n",
      "Greet: <function hello at 0x1111679d8>\n",
      "Hello!\n",
      "There was an error.\n",
      "<function hello at 0x1111679d8>\n",
      "Hello!\n"
     ]
    }
   ],
   "source": [
    "# we can save functions to a variable\n",
    "def hello():\n",
    "    return \"Hello!\"\n",
    "\n",
    "print(\"Hello: {}\".format(hello))\n",
    "greet = hello\n",
    "print(\"Greet: {}\".format(greet))\n",
    "print(greet())\n",
    "\n",
    "del hello\n",
    "\n",
    "try:\n",
    "    hello()\n",
    "except:\n",
    "    print(\"There was an error.\")\n",
    "\n",
    "print(greet)\n",
    "print(greet())  # greet still points to the function object."
   ]
  },
  {
   "cell_type": "code",
   "execution_count": 12,
   "metadata": {},
   "outputs": [
    {
     "name": "stdout",
     "output_type": "stream",
     "text": [
      "function hello() has been executed.\n"
     ]
    }
   ],
   "source": [
    "def hello(name=\"April\"):\n",
    "    print(\"function hello() has been executed.\")\n",
    "    \n",
    "    def greet():\n",
    "        return \"\\t this is the greet() function inside of hello().\"\n",
    "\n",
    "hello()"
   ]
  },
  {
   "cell_type": "code",
   "execution_count": 16,
   "metadata": {},
   "outputs": [
    {
     "name": "stdout",
     "output_type": "stream",
     "text": [
      "function hello() has been executed.\n",
      "\t this is the greet() function inside of hello().\n"
     ]
    }
   ],
   "source": [
    "def hello(name=\"April\"):\n",
    "    print(\"function hello() has been executed.\")\n",
    "    \n",
    "    def greet():\n",
    "        return \"\\t this is the greet() function inside of hello().\"\n",
    "\n",
    "    print(greet())\n",
    "hello()"
   ]
  },
  {
   "cell_type": "code",
   "execution_count": 17,
   "metadata": {},
   "outputs": [
    {
     "name": "stdout",
     "output_type": "stream",
     "text": [
      "function hello() has been executed.\n",
      "\t this is the greet() function inside of hello().\n",
      "\t this is the welcome() function inside of hello().\n",
      "This is the end of hello()\n"
     ]
    }
   ],
   "source": [
    "def hello(name=\"April\"):\n",
    "    print(\"function hello() has been executed.\")\n",
    "    \n",
    "    # scope is limited to hello\n",
    "    def greet():\n",
    "        return \"\\t this is the greet() function inside of hello().\"\n",
    "    \n",
    "    # scope is limited to hello\n",
    "    def welcome():\n",
    "        return \"\\t this is the welcome() function inside of hello().\"\n",
    "\n",
    "    print(greet())\n",
    "    print(welcome())\n",
    "    print(\"This is the end of hello()\")\n",
    "hello()"
   ]
  },
  {
   "cell_type": "code",
   "execution_count": 18,
   "metadata": {},
   "outputs": [],
   "source": [
    "# could be useful to return a function instead\n",
    "def hello(name=\"April\"):\n",
    "    print(\"function hello() has been executed.\")\n",
    "    \n",
    "    # scope is limited to hello\n",
    "    def greet():\n",
    "        return \"\\t this is the greet() function inside of hello().\"\n",
    "    \n",
    "    # scope is limited to hello\n",
    "    def welcome():\n",
    "        return \"\\t this is the welcome() function inside of hello().\"\n",
    "    \n",
    "    print(\"I'm going to return a function.\")\n",
    "    if name == \"April\":\n",
    "        return greet\n",
    "    else:\n",
    "        return welcome"
   ]
  },
  {
   "cell_type": "code",
   "execution_count": 21,
   "metadata": {},
   "outputs": [
    {
     "name": "stdout",
     "output_type": "stream",
     "text": [
      "function hello() has been executed.\n",
      "I'm going to return a function.\n",
      "<function hello.<locals>.greet at 0x111167d08>\n",
      "\t this is the greet() function inside of hello().\n"
     ]
    }
   ],
   "source": [
    "my_new_func = hello()\n",
    "print(my_new_func)\n",
    "print(my_new_func())"
   ]
  },
  {
   "cell_type": "code",
   "execution_count": 23,
   "metadata": {},
   "outputs": [
    {
     "data": {
      "text/plain": [
       "\"I'm super cool!\""
      ]
     },
     "execution_count": 23,
     "metadata": {},
     "output_type": "execute_result"
    }
   ],
   "source": [
    "# The idea of being able to return a function, set it to something, and pass it, will give us all the \n",
    "# tools to make a decorator.\n",
    "def cool():\n",
    "    def super_cool():\n",
    "        return \"I'm super cool!\"\n",
    "    return super_cool\n",
    "\n",
    "some_func = cool()\n",
    "some_func()"
   ]
  },
  {
   "cell_type": "code",
   "execution_count": 25,
   "metadata": {},
   "outputs": [
    {
     "name": "stdout",
     "output_type": "stream",
     "text": [
      "Other code runs here.\n",
      "Hi April\n",
      "Other code runs here.\n",
      "Bye April\n"
     ]
    }
   ],
   "source": [
    "def hello():\n",
    "    return \"Hi April\"\n",
    "\n",
    "def bye():\n",
    "    return \"Bye April\"\n",
    "\n",
    "def other(some_def_func):\n",
    "    print(\"Other code runs here.\")\n",
    "    print(some_def_func())\n",
    "\n",
    "other(hello)\n",
    "other(bye)"
   ]
  },
  {
   "cell_type": "code",
   "execution_count": 30,
   "metadata": {},
   "outputs": [],
   "source": [
    "# now making a decorator\n",
    "def new_decorator(original_func):\n",
    "    def warp_func():\n",
    "        print(\"Extra code, before original fuction call.\")\n",
    "        original_func()\n",
    "        print(\"Extra code, after original function call.\")\n",
    "    return warp_func\n",
    "\n",
    "def func_needs_decorator():\n",
    "    print(\"I want to be decorated!\")"
   ]
  },
  {
   "cell_type": "code",
   "execution_count": 31,
   "metadata": {},
   "outputs": [
    {
     "name": "stdout",
     "output_type": "stream",
     "text": [
      "I want to be decorated!\n"
     ]
    }
   ],
   "source": [
    "func_needs_decorator()"
   ]
  },
  {
   "cell_type": "code",
   "execution_count": 35,
   "metadata": {},
   "outputs": [
    {
     "name": "stdout",
     "output_type": "stream",
     "text": [
      "Extra code, before original fuction call.\n",
      "I want to be decorated!\n",
      "Extra code, after original function call.\n"
     ]
    }
   ],
   "source": [
    "decorated_func = new_decorator(func_needs_decorator)\n",
    "decorated_func()"
   ]
  },
  {
   "cell_type": "code",
   "execution_count": 36,
   "metadata": {},
   "outputs": [],
   "source": [
    "def new_decorator(original_func):\n",
    "    def warp_func():\n",
    "        print(\"Extra code, before original fuction call.\")\n",
    "        original_func()\n",
    "        print(\"Extra code, after original function call.\")\n",
    "    return warp_func\n",
    "\n",
    "# special syntax to do this.\n",
    "\n",
    "@new_decorator\n",
    "def func_needs_decorator():\n",
    "    print(\"I want to be decorated!\")"
   ]
  },
  {
   "cell_type": "code",
   "execution_count": 37,
   "metadata": {},
   "outputs": [
    {
     "name": "stdout",
     "output_type": "stream",
     "text": [
      "Extra code, before original fuction call.\n",
      "I want to be decorated!\n",
      "Extra code, after original function call.\n"
     ]
    }
   ],
   "source": [
    "func_needs_decorator()"
   ]
  },
  {
   "cell_type": "code",
   "execution_count": null,
   "metadata": {},
   "outputs": [],
   "source": []
  }
 ],
 "metadata": {
  "kernelspec": {
   "display_name": "Python 3",
   "language": "python",
   "name": "python3"
  },
  "language_info": {
   "codemirror_mode": {
    "name": "ipython",
    "version": 3
   },
   "file_extension": ".py",
   "mimetype": "text/x-python",
   "name": "python",
   "nbconvert_exporter": "python",
   "pygments_lexer": "ipython3",
   "version": "3.6.5"
  }
 },
 "nbformat": 4,
 "nbformat_minor": 2
}
