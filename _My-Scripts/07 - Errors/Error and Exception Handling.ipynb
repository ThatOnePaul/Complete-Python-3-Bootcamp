{
 "cells": [
  {
   "cell_type": "markdown",
   "metadata": {},
   "source": [
    "three key words:<br>\n",
    " - __try__: the block of code that will be attempted. (May result in an error)\n",
    " - __except__: block of code that will execute when there is an error in the try block\n",
    " - __finally__: the final block of code to be executed, reguardless of errors\n"
   ]
  },
  {
   "cell_type": "code",
   "execution_count": 1,
   "metadata": {},
   "outputs": [
    {
     "name": "stdout",
     "output_type": "stream",
     "text": [
      "Please provide a number2\n"
     ]
    },
    {
     "ename": "TypeError",
     "evalue": "unsupported operand type(s) for +: 'int' and 'str'",
     "output_type": "error",
     "traceback": [
      "\u001b[0;31m---------------------------------------------------------------------------\u001b[0m",
      "\u001b[0;31mTypeError\u001b[0m                                 Traceback (most recent call last)",
      "\u001b[0;32m<ipython-input-1-ac426a1d7ec7>\u001b[0m in \u001b[0;36m<module>\u001b[0;34m()\u001b[0m\n\u001b[1;32m      4\u001b[0m \u001b[0mnumber1\u001b[0m \u001b[0;34m=\u001b[0m \u001b[0;36m10\u001b[0m\u001b[0;34m\u001b[0m\u001b[0m\n\u001b[1;32m      5\u001b[0m \u001b[0mnumber2\u001b[0m \u001b[0;34m=\u001b[0m \u001b[0minput\u001b[0m\u001b[0;34m(\u001b[0m\u001b[0;34m\"Please provide a number\"\u001b[0m\u001b[0;34m)\u001b[0m\u001b[0;34m\u001b[0m\u001b[0m\n\u001b[0;32m----> 6\u001b[0;31m \u001b[0madd\u001b[0m\u001b[0;34m(\u001b[0m\u001b[0mnumber1\u001b[0m\u001b[0;34m,\u001b[0m \u001b[0mnumber2\u001b[0m\u001b[0;34m)\u001b[0m\u001b[0;34m\u001b[0m\u001b[0m\n\u001b[0m",
      "\u001b[0;32m<ipython-input-1-ac426a1d7ec7>\u001b[0m in \u001b[0;36madd\u001b[0;34m(n1, n2)\u001b[0m\n\u001b[1;32m      1\u001b[0m \u001b[0;32mdef\u001b[0m \u001b[0madd\u001b[0m\u001b[0;34m(\u001b[0m\u001b[0mn1\u001b[0m\u001b[0;34m,\u001b[0m \u001b[0mn2\u001b[0m\u001b[0;34m)\u001b[0m\u001b[0;34m:\u001b[0m\u001b[0;34m\u001b[0m\u001b[0m\n\u001b[0;32m----> 2\u001b[0;31m     \u001b[0;32mreturn\u001b[0m \u001b[0mn1\u001b[0m\u001b[0;34m+\u001b[0m\u001b[0mn2\u001b[0m\u001b[0;34m\u001b[0m\u001b[0m\n\u001b[0m\u001b[1;32m      3\u001b[0m \u001b[0;34m\u001b[0m\u001b[0m\n\u001b[1;32m      4\u001b[0m \u001b[0mnumber1\u001b[0m \u001b[0;34m=\u001b[0m \u001b[0;36m10\u001b[0m\u001b[0;34m\u001b[0m\u001b[0m\n\u001b[1;32m      5\u001b[0m \u001b[0mnumber2\u001b[0m \u001b[0;34m=\u001b[0m \u001b[0minput\u001b[0m\u001b[0;34m(\u001b[0m\u001b[0;34m\"Please provide a number\"\u001b[0m\u001b[0;34m)\u001b[0m\u001b[0;34m\u001b[0m\u001b[0m\n",
      "\u001b[0;31mTypeError\u001b[0m: unsupported operand type(s) for +: 'int' and 'str'"
     ]
    }
   ],
   "source": [
    "def add(n1, n2):\n",
    "    return n1+n2\n",
    "\n",
    "number1 = 10\n",
    "number2 = input(\"Please provide a number\")\n",
    "result = add(number1, number2)\n",
    "# ...\n",
    "print(\"Hello world!\") # will never be called"
   ]
  },
  {
   "cell_type": "code",
   "execution_count": 5,
   "metadata": {},
   "outputs": [
    {
     "name": "stdout",
     "output_type": "stream",
     "text": [
      "Please provide a number2\n",
      "input was not cast as an int\n",
      "Hello world!\n"
     ]
    }
   ],
   "source": [
    "def add(n1, n2):\n",
    "    return n1+n2\n",
    "\n",
    "try:\n",
    "    number1 = 10\n",
    "    number2 = input(\"Please provide a number\")\n",
    "    result = add(number1, number2)\n",
    "except:\n",
    "    print(\"input was not cast as an int\")\n",
    "else:\n",
    "    print(result)\n",
    "# ...\n",
    "print(\"Hello world!\")"
   ]
  },
  {
   "cell_type": "code",
   "execution_count": 6,
   "metadata": {},
   "outputs": [
    {
     "name": "stdout",
     "output_type": "stream",
     "text": [
      "20\n",
      "Hello world!\n"
     ]
    }
   ],
   "source": [
    "def add(n1, n2):\n",
    "    return n1+n2\n",
    "\n",
    "try:\n",
    "    number1 = 10\n",
    "    number2 = 10\n",
    "    result = add(number1, number2)\n",
    "except:\n",
    "    print(\"input was not cast as an int\")\n",
    "else:\n",
    "    print(result)\n",
    "# ...\n",
    "print(\"Hello world!\")"
   ]
  },
  {
   "cell_type": "markdown",
   "metadata": {},
   "source": [
    "# More Practical example"
   ]
  },
  {
   "cell_type": "code",
   "execution_count": 7,
   "metadata": {},
   "outputs": [
    {
     "name": "stdout",
     "output_type": "stream",
     "text": [
      "I always run\n"
     ]
    }
   ],
   "source": [
    "try:\n",
    "    f = open('testfile.txt', 'w')\n",
    "    f.write(\"test line\")\n",
    "except TypeError:\n",
    "    print(\"there was a TypeError\")\n",
    "except OSError:\n",
    "    print(\"there was an OSError\")\n",
    "finally:\n",
    "    print(\"I always run\")"
   ]
  },
  {
   "cell_type": "code",
   "execution_count": 9,
   "metadata": {},
   "outputs": [
    {
     "name": "stdout",
     "output_type": "stream",
     "text": [
      "there was an OSError\n",
      "I always run\n"
     ]
    }
   ],
   "source": [
    "try:\n",
    "    f = open('testfile.txt', 'r')\n",
    "    f.write(\"test line\")\n",
    "except TypeError:\n",
    "    print(\"there was a TypeError\")\n",
    "except OSError:\n",
    "    print(\"there was an OSError\")\n",
    "finally:\n",
    "    print(\"I always run\")"
   ]
  },
  {
   "cell_type": "code",
   "execution_count": 10,
   "metadata": {},
   "outputs": [
    {
     "name": "stdout",
     "output_type": "stream",
     "text": [
      "catch everything else\n",
      "I always run\n"
     ]
    }
   ],
   "source": [
    "try:\n",
    "    f = open('testfile.txt', 'this is wrong!')\n",
    "    f.write(\"test line\")\n",
    "except TypeError:\n",
    "    print(\"there was a TypeError\")\n",
    "except OSError:\n",
    "    print(\"there was an OSError\")\n",
    "except:\n",
    "    print(\"catch everything else\")\n",
    "finally:\n",
    "    print(\"I always run\")"
   ]
  },
  {
   "cell_type": "markdown",
   "metadata": {},
   "source": [
    "## User error problem"
   ]
  },
  {
   "cell_type": "code",
   "execution_count": 12,
   "metadata": {},
   "outputs": [],
   "source": [
    "def add_input():\n",
    "    try:\n",
    "        a = int(input(\"Please provide the first number: \"))\n",
    "        b = int(input(\"Please provide the second number: \"))\n",
    "    except:\n",
    "        print(\"The provided number was not a integer.\")\n",
    "    else:\n",
    "        print(\"The sum of the provided numbers is: {}\".format(a+b))\n",
    "    finally:\n",
    "        print(\"Thank you for providing input.\")"
   ]
  },
  {
   "cell_type": "code",
   "execution_count": 13,
   "metadata": {},
   "outputs": [
    {
     "name": "stdout",
     "output_type": "stream",
     "text": [
      "Please provide the first number: 1\n",
      "Please provide the second number: 2\n",
      "The sum of the provided numbers is: 3\n",
      "Thank you for providing input.\n"
     ]
    }
   ],
   "source": [
    "add_input()"
   ]
  },
  {
   "cell_type": "code",
   "execution_count": 14,
   "metadata": {},
   "outputs": [
    {
     "name": "stdout",
     "output_type": "stream",
     "text": [
      "Please provide the first number: word\n",
      "The provided number was not a integer.\n",
      "Thank you for providing input.\n"
     ]
    }
   ],
   "source": [
    "add_input()"
   ]
  },
  {
   "cell_type": "code",
   "execution_count": 15,
   "metadata": {},
   "outputs": [
    {
     "name": "stdout",
     "output_type": "stream",
     "text": [
      "Please provide the first number: 12\n",
      "Please provide the second number: word\n",
      "The provided number was not a integer.\n",
      "Thank you for providing input.\n"
     ]
    }
   ],
   "source": [
    "add_input()"
   ]
  },
  {
   "cell_type": "code",
   "execution_count": 1,
   "metadata": {},
   "outputs": [],
   "source": [
    "def sum_input():\n",
    "    while True:\n",
    "        try:\n",
    "            num = int(input(\"Please provide a number: \"))\n",
    "        except:\n",
    "            print(\"That was not a number, please try again.\")\n",
    "            continue\n",
    "        else:\n",
    "            print(\"Thank you.\")\n",
    "            break\n",
    "        finally:\n",
    "            print(\"......\")\n",
    "    return num"
   ]
  },
  {
   "cell_type": "code",
   "execution_count": 2,
   "metadata": {},
   "outputs": [
    {
     "name": "stdout",
     "output_type": "stream",
     "text": [
      "Please provide a number: w\n",
      "That was not a number, please try again.\n",
      "......\n",
      "Please provide a number: 1\n",
      "Thank you.\n",
      "......\n"
     ]
    },
    {
     "data": {
      "text/plain": [
       "1"
      ]
     },
     "execution_count": 2,
     "metadata": {},
     "output_type": "execute_result"
    }
   ],
   "source": [
    "sum_input()"
   ]
  },
  {
   "cell_type": "code",
   "execution_count": null,
   "metadata": {},
   "outputs": [],
   "source": []
  }
 ],
 "metadata": {
  "kernelspec": {
   "display_name": "Python 3",
   "language": "python",
   "name": "python3"
  },
  "language_info": {
   "codemirror_mode": {
    "name": "ipython",
    "version": 3
   },
   "file_extension": ".py",
   "mimetype": "text/x-python",
   "name": "python",
   "nbconvert_exporter": "python",
   "pygments_lexer": "ipython3",
   "version": "3.6.5"
  }
 },
 "nbformat": 4,
 "nbformat_minor": 2
}
