{
 "cells": [
  {
   "cell_type": "markdown",
   "metadata": {},
   "source": [
    "## Control flow\n",
    " - __if__\n",
    " - __elif__\n",
    " - __else__\n",
    "<br>python whitespace let's this be very readable"
   ]
  },
  {
   "cell_type": "code",
   "execution_count": 1,
   "metadata": {},
   "outputs": [
    {
     "name": "stdout",
     "output_type": "stream",
     "text": [
      "2000 is greater than or equal to 1000\n"
     ]
    }
   ],
   "source": [
    "x = 2000\n",
    "\n",
    "if x >= 1000:\n",
    "    print(f'{x} is greater than or equal to 1000')\n",
    "elif x >= 100:\n",
    "    print(f'{x} is greater than or equal to 100')\n",
    "elif x >= 10:\n",
    "    print(f'{x} is greater than or equal to 10')\n",
    "else:\n",
    "    print(f'{x} is not greater than or equal to 10')"
   ]
  },
  {
   "cell_type": "code",
   "execution_count": 2,
   "metadata": {},
   "outputs": [
    {
     "name": "stdout",
     "output_type": "stream",
     "text": [
      "200 is greater than or equal to 100\n"
     ]
    }
   ],
   "source": [
    "x = 200\n",
    "\n",
    "if x >= 1000:\n",
    "    print(f'{x} is greater than or equal to 1000')\n",
    "elif x >= 100:\n",
    "    print(f'{x} is greater than or equal to 100')\n",
    "elif x >= 10:\n",
    "    print(f'{x} is greater than or equal to 10')\n",
    "else:\n",
    "    print(f'{x} is not greater than or equal to 10')"
   ]
  },
  {
   "cell_type": "code",
   "execution_count": 3,
   "metadata": {},
   "outputs": [
    {
     "name": "stdout",
     "output_type": "stream",
     "text": [
      "20 is greater than or equal to 10\n"
     ]
    }
   ],
   "source": [
    "x = 20\n",
    "\n",
    "if x >= 1000:\n",
    "    print(f'{x} is greater than or equal to 1000')\n",
    "elif x >= 100:\n",
    "    print(f'{x} is greater than or equal to 100')\n",
    "elif x >= 10:\n",
    "    print(f'{x} is greater than or equal to 10')\n",
    "else:\n",
    "    print(f'{x} is not greater than or equal to 10')"
   ]
  },
  {
   "cell_type": "code",
   "execution_count": 4,
   "metadata": {},
   "outputs": [
    {
     "name": "stdout",
     "output_type": "stream",
     "text": [
      "2 is not greater than or equal to 10\n"
     ]
    }
   ],
   "source": [
    "x = 2\n",
    "\n",
    "if x >= 1000:\n",
    "    print(f'{x} is greater than or equal to 1000')\n",
    "elif x >= 100:\n",
    "    print(f'{x} is greater than or equal to 100')\n",
    "elif x >= 10:\n",
    "    print(f'{x} is greater than or equal to 10')\n",
    "else:\n",
    "    print(f'{x} is not greater than or equal to 10')"
   ]
  },
  {
   "cell_type": "code",
   "execution_count": null,
   "metadata": {},
   "outputs": [],
   "source": []
  }
 ],
 "metadata": {
  "kernelspec": {
   "display_name": "Python 3",
   "language": "python",
   "name": "python3"
  },
  "language_info": {
   "codemirror_mode": {
    "name": "ipython",
    "version": 3
   },
   "file_extension": ".py",
   "mimetype": "text/x-python",
   "name": "python",
   "nbconvert_exporter": "python",
   "pygments_lexer": "ipython3",
   "version": "3.6.5"
  }
 },
 "nbformat": 4,
 "nbformat_minor": 2
}
