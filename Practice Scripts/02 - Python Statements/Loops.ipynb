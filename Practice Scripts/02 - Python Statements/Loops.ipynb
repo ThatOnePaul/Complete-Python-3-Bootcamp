{
 "cells": [
  {
   "cell_type": "markdown",
   "metadata": {},
   "source": [
    "## For Loops\n",
    "General syntax is:<br>\n",
    "__for__ item_name in my_iterable:<br>\n",
    "    # do something<br>"
   ]
  },
  {
   "cell_type": "code",
   "execution_count": 1,
   "metadata": {},
   "outputs": [
    {
     "name": "stdout",
     "output_type": "stream",
     "text": [
      "1\n",
      "2\n",
      "3\n"
     ]
    }
   ],
   "source": [
    "iterable = [1,2,3]\n",
    "for item in iterable:\n",
    "    print(item)"
   ]
  },
  {
   "cell_type": "code",
   "execution_count": 2,
   "metadata": {},
   "outputs": [
    {
     "name": "stdout",
     "output_type": "stream",
     "text": [
      "2\n",
      "4\n",
      "6\n",
      "8\n",
      "10\n"
     ]
    }
   ],
   "source": [
    "iterable = [1,2,3,4,5,6,7,8,9,10]\n",
    "for num in iterable:\n",
    "    if num % 2 == 0:\n",
    "        print(num)"
   ]
  },
  {
   "cell_type": "code",
   "execution_count": 4,
   "metadata": {},
   "outputs": [
    {
     "name": "stdout",
     "output_type": "stream",
     "text": [
      "55\n"
     ]
    }
   ],
   "source": [
    "iterable = [1,2,3,4,5,6,7,8,9,10]\n",
    "list_sum = 0\n",
    "\n",
    "for num in iterable:\n",
    "    list_sum += num\n",
    "    \n",
    "print(list_sum)"
   ]
  },
  {
   "cell_type": "code",
   "execution_count": 8,
   "metadata": {},
   "outputs": [
    {
     "name": "stdout",
     "output_type": "stream",
     "text": [
      "cool\n",
      "cool\n",
      "cool\n",
      "cool\n",
      "cool\n",
      "cool\n",
      "cool\n",
      "cool\n"
     ]
    }
   ],
   "source": [
    "# common practice when variable name is not used\n",
    "iterable = \"I'm cool\"\n",
    "for _ in iterable:\n",
    "    print(\"cool\")\n"
   ]
  },
  {
   "cell_type": "code",
   "execution_count": 15,
   "metadata": {},
   "outputs": [
    {
     "name": "stdout",
     "output_type": "stream",
     "text": [
      "1\n",
      "2\n",
      "3\n"
     ]
    }
   ],
   "source": [
    "t = (1,2,3)\n",
    "\n",
    "for i in t:\n",
    "    print(i)"
   ]
  },
  {
   "cell_type": "code",
   "execution_count": 18,
   "metadata": {},
   "outputs": [
    {
     "name": "stdout",
     "output_type": "stream",
     "text": [
      "k1\n",
      "k2\n",
      "k3\n",
      "('k1', 1)\n",
      "('k2', 2)\n",
      "('k3', 3)\n",
      "1\n",
      "2\n",
      "3\n"
     ]
    }
   ],
   "source": [
    "d = {'k1':1, 'k2':2, 'k3':3}\n",
    "\n",
    "for item in d:\n",
    "    print(item)\n",
    "    \n",
    "for item in d.items():\n",
    "    print(item)\n",
    "\n",
    "for (key, value) in d.items():\n",
    "    print(value)"
   ]
  },
  {
   "cell_type": "code",
   "execution_count": 19,
   "metadata": {},
   "outputs": [
    {
     "name": "stdout",
     "output_type": "stream",
     "text": [
      "good\n",
      "good\n"
     ]
    }
   ],
   "source": [
    "for _ in \"Hi\":\n",
    "    print('good')"
   ]
  },
  {
   "cell_type": "markdown",
   "metadata": {},
   "source": [
    "## While Loops\n",
    "To do something while something is true<br>\n",
    "General syntax is:<br>\n",
    "__while__ some_boolean_condition:<br>\n",
    "    # do something<br>\n",
    "    \n",
    "Can also attach else if you want:<br>\n",
    "__while__ some_boolean_condition:<br>\n",
    "    # do something<br>\n",
    "__else__:<br>\n",
    "    # do something<br>"
   ]
  },
  {
   "cell_type": "code",
   "execution_count": 12,
   "metadata": {},
   "outputs": [
    {
     "name": "stdout",
     "output_type": "stream",
     "text": [
      "3\n",
      "7\n",
      "11\n",
      "15\n",
      "3\n",
      "7\n",
      "11\n",
      "15\n"
     ]
    }
   ],
   "source": [
    "tup_list = [(1,2), (3,4), (5,6), (7,8)]\n",
    "\n",
    "# tuple unpacking\n",
    "for (a,b) in tup_list:\n",
    "    print(a+b)\n",
    "\n",
    "# more common to see it like this\n",
    "for a,b in tup_list:\n",
    "    print(a+b)"
   ]
  },
  {
   "cell_type": "code",
   "execution_count": 5,
   "metadata": {},
   "outputs": [
    {
     "name": "stdout",
     "output_type": "stream",
     "text": [
      "0 is less than 5\n",
      "1 is less than 5\n",
      "2 is less than 5\n",
      "3 is less than 5\n",
      "4 is less than 5\n",
      "5 is not less than 5\n"
     ]
    }
   ],
   "source": [
    "x = 0\n",
    "\n",
    "while x < 5:\n",
    "    print(f'{x} is less than 5')\n",
    "    x += 1\n",
    "else:\n",
    "    print(f'{x} is not less than 5')"
   ]
  },
  {
   "cell_type": "markdown",
   "metadata": {},
   "source": [
    "## break, continue, pass\n",
    " - __break__: breaks out of the closest enclosing loop\n",
    " - __continue__: goes to the top of the enclosing loop\n",
    " - __pass__: does nothing at all"
   ]
  },
  {
   "cell_type": "code",
   "execution_count": 8,
   "metadata": {},
   "outputs": [
    {
     "ename": "SyntaxError",
     "evalue": "unexpected EOF while parsing (<ipython-input-8-d1f85db692d8>, line 7)",
     "output_type": "error",
     "traceback": [
      "\u001b[0;36m  File \u001b[0;32m\"<ipython-input-8-d1f85db692d8>\"\u001b[0;36m, line \u001b[0;32m7\u001b[0m\n\u001b[0;31m    # python uses indentation, thus something has to go here for it to compile correctly\u001b[0m\n\u001b[0m                                                                                        ^\u001b[0m\n\u001b[0;31mSyntaxError\u001b[0m\u001b[0;31m:\u001b[0m unexpected EOF while parsing\n"
     ]
    }
   ],
   "source": [
    "# why pass can be useful\n",
    "\n",
    "items = [1,2,3]\n",
    "\n",
    "for item in items:\n",
    "    # add code later\n",
    "    # python uses indentation, thus something has to go here for it to compile correctly"
   ]
  },
  {
   "cell_type": "code",
   "execution_count": 11,
   "metadata": {},
   "outputs": [
    {
     "ename": "IndentationError",
     "evalue": "expected an indented block (<ipython-input-11-0dfdb95185c2>, line 9)",
     "output_type": "error",
     "traceback": [
      "\u001b[0;36m  File \u001b[0;32m\"<ipython-input-11-0dfdb95185c2>\"\u001b[0;36m, line \u001b[0;32m9\u001b[0m\n\u001b[0;31m    print('end of program') # can't run because of no code in for loop\u001b[0m\n\u001b[0m        ^\u001b[0m\n\u001b[0;31mIndentationError\u001b[0m\u001b[0;31m:\u001b[0m expected an indented block\n"
     ]
    }
   ],
   "source": [
    "# why pass can be useful\n",
    "\n",
    "items = [1,2,3]\n",
    "\n",
    "for item in items:\n",
    "    # add code later\n",
    "    # python uses indentation, thus something has to go here for it to compile correctly\n",
    "    \n",
    "print('end of program') # can't run because of no code in for loop"
   ]
  },
  {
   "cell_type": "code",
   "execution_count": 10,
   "metadata": {},
   "outputs": [],
   "source": [
    "# why pass can be useful\n",
    "\n",
    "items = [1,2,3]\n",
    "\n",
    "for item in items:\n",
    "    # add code later\n",
    "    pass # pass lets us do nothing while also letting us compile the program"
   ]
  },
  {
   "cell_type": "code",
   "execution_count": 13,
   "metadata": {},
   "outputs": [
    {
     "name": "stdout",
     "output_type": "stream",
     "text": [
      "Sam\n"
     ]
    }
   ],
   "source": [
    "# stop at m\n",
    "my_name = 'Sammy'\n",
    "new_name = ''\n",
    "\n",
    "for character in my_name:\n",
    "    new_name += character\n",
    "    if character == 'm':\n",
    "        break\n",
    "\n",
    "print(new_name)"
   ]
  },
  {
   "cell_type": "code",
   "execution_count": 14,
   "metadata": {},
   "outputs": [
    {
     "name": "stdout",
     "output_type": "stream",
     "text": [
      "Smmy\n"
     ]
    }
   ],
   "source": [
    "# don't print a\n",
    "my_name = 'Sammy'\n",
    "new_name = ''\n",
    "\n",
    "for character in my_name:\n",
    "    if character == 'a':\n",
    "        continue\n",
    "    new_name += character\n",
    "\n",
    "print(new_name)"
   ]
  },
  {
   "cell_type": "markdown",
   "metadata": {},
   "source": [
    "## Nested Loops"
   ]
  },
  {
   "cell_type": "code",
   "execution_count": 20,
   "metadata": {},
   "outputs": [
    {
     "data": {
      "text/plain": [
       "[200, 400, 600, 400, 800, 1200, 600, 1200, 1800]"
      ]
     },
     "execution_count": 20,
     "metadata": {},
     "output_type": "execute_result"
    }
   ],
   "source": [
    "my_list = []\n",
    "\n",
    "for x in [2,4,6]:\n",
    "    for y in [100,200,300]:\n",
    "        my_list.append(x*y)\n",
    "\n",
    "my_list"
   ]
  },
  {
   "cell_type": "code",
   "execution_count": null,
   "metadata": {},
   "outputs": [],
   "source": []
  }
 ],
 "metadata": {
  "kernelspec": {
   "display_name": "Python 3",
   "language": "python",
   "name": "python3"
  },
  "language_info": {
   "codemirror_mode": {
    "name": "ipython",
    "version": 3
   },
   "file_extension": ".py",
   "mimetype": "text/x-python",
   "name": "python",
   "nbconvert_exporter": "python",
   "pygments_lexer": "ipython3",
   "version": "3.6.5"
  }
 },
 "nbformat": 4,
 "nbformat_minor": 2
}
