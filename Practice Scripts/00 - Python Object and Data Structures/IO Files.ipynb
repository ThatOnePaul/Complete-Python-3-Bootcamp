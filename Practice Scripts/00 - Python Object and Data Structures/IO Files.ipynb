{
 "cells": [
  {
   "cell_type": "code",
   "execution_count": 6,
   "metadata": {},
   "outputs": [
    {
     "name": "stdout",
     "output_type": "stream",
     "text": [
      "Overwriting testfile.mine.txt\n"
     ]
    }
   ],
   "source": [
    "%%writefile testfile.mine.txt\n",
    "line one\n",
    "line two\n",
    "line three"
   ]
  },
  {
   "cell_type": "markdown",
   "metadata": {},
   "source": [
    "#### Must have path to test file "
   ]
  },
  {
   "cell_type": "markdown",
   "metadata": {},
   "source": [
    "# Common file functions"
   ]
  },
  {
   "cell_type": "code",
   "execution_count": 16,
   "metadata": {},
   "outputs": [
    {
     "name": "stdout",
     "output_type": "stream",
     "text": [
      "read 1: line one\n",
      "line two\n",
      "line three\n",
      "read 2: \n",
      "read 3: line one\n",
      "line two\n",
      "line three\n"
     ]
    }
   ],
   "source": [
    "my_file = open('testfile.mine.txt')\n",
    "print('read 1: ' + my_file.read())\n",
    "print('read 2: ' + my_file.read())\n",
    "\n",
    "my_file.seek(0)\n",
    "print('read 3: ' + my_file.read())\n",
    "\n",
    "my_file.close()"
   ]
  },
  {
   "cell_type": "code",
   "execution_count": 18,
   "metadata": {},
   "outputs": [
    {
     "name": "stdout",
     "output_type": "stream",
     "text": [
      "['line one\\n', 'line two\\n', 'line three']\n"
     ]
    }
   ],
   "source": [
    "my_file = open('testfile.mine.txt')\n",
    "print(my_file.readlines())\n",
    "\n",
    "my_file.close()"
   ]
  },
  {
   "cell_type": "markdown",
   "metadata": {},
   "source": [
    "# File Locations\n",
    "To open files at another location in your computer, pass in the entire file path."
   ]
  },
  {
   "cell_type": "markdown",
   "metadata": {},
   "source": [
    "Windows uses \\ in file paths. Use a double \\ to avoid the escape character. Example:"
   ]
  },
  {
   "cell_type": "markdown",
   "metadata": {},
   "source": [
    "file = open(\"C:\\\\Users\\\\Username\\\\Folder\\\\test.txt\")"
   ]
  },
  {
   "cell_type": "markdown",
   "metadata": {},
   "source": [
    "Mac and Linux uses / in file paths. Example:\n"
   ]
  },
  {
   "cell_type": "markdown",
   "metadata": {},
   "source": [
    "file = open(\"/Users/YourUsername/Folder/test.txt\")"
   ]
  },
  {
   "cell_type": "code",
   "execution_count": 13,
   "metadata": {},
   "outputs": [
    {
     "data": {
      "text/plain": [
       "'/Users/paulboutot/Documents/-Udemy/Python/Practice Scripts'"
      ]
     },
     "execution_count": 13,
     "metadata": {},
     "output_type": "execute_result"
    }
   ],
   "source": [
    "pwd"
   ]
  },
  {
   "cell_type": "code",
   "execution_count": 14,
   "metadata": {},
   "outputs": [
    {
     "name": "stdout",
     "output_type": "stream",
     "text": [
      "Booleans.ipynb           Numbers.ipynb            Variables.ipynb\r\n",
      "Dictionaries.ipynb       Sets.ipynb               myexample.py\r\n",
      "IO Files.ipynb           String Formatting.ipynb  myfirstnotebook.ipynb\r\n",
      "Lists.ipynb              String Properties.ipynb  test.txt\r\n",
      "None Datatype.ipynb      Tuples.ipynb             testfile.mine.txt\r\n"
     ]
    }
   ],
   "source": [
    "ls"
   ]
  },
  {
   "cell_type": "markdown",
   "metadata": {},
   "source": [
    "# Best practices for opening files\n",
    "normally, need to close file after using it. If it wasn't closed, then when the file is opened somewhere else in the computer, there will be an error."
   ]
  },
  {
   "cell_type": "code",
   "execution_count": 23,
   "metadata": {},
   "outputs": [],
   "source": [
    "f1 = open('testfile.mine.txt')\n",
    "f1.close()"
   ]
  },
  {
   "cell_type": "markdown",
   "metadata": {},
   "source": [
    "to avoid this problem, use the 'with' command."
   ]
  },
  {
   "cell_type": "code",
   "execution_count": 25,
   "metadata": {},
   "outputs": [
    {
     "name": "stdout",
     "output_type": "stream",
     "text": [
      "line one\n",
      "line two\n",
      "line three\n"
     ]
    }
   ],
   "source": [
    "with open('testfile.mine.txt') as my_file_variable:\n",
    "    contents = my_file_variable.read()\n",
    "\n",
    "print(contents) # No longer need to worry about closing the file."
   ]
  },
  {
   "cell_type": "markdown",
   "metadata": {},
   "source": [
    "# Write and override files"
   ]
  },
  {
   "cell_type": "code",
   "execution_count": 2,
   "metadata": {},
   "outputs": [
    {
     "name": "stdout",
     "output_type": "stream",
     "text": [
      "line one\n",
      "line two\n",
      "line three\n"
     ]
    }
   ],
   "source": [
    "with open('testfile.mine.txt', mode = 'r') as my_file_variable:\n",
    "    contents = my_file_variable.read()\n",
    "    \n",
    "print(contents)"
   ]
  },
  {
   "cell_type": "code",
   "execution_count": 3,
   "metadata": {},
   "outputs": [
    {
     "ename": "UnsupportedOperation",
     "evalue": "not readable",
     "output_type": "error",
     "traceback": [
      "\u001b[0;31m---------------------------------------------------------------------------\u001b[0m",
      "\u001b[0;31mUnsupportedOperation\u001b[0m                      Traceback (most recent call last)",
      "\u001b[0;32m<ipython-input-3-d254faf2125f>\u001b[0m in \u001b[0;36m<module>\u001b[0;34m()\u001b[0m\n\u001b[1;32m      1\u001b[0m \u001b[0;32mwith\u001b[0m \u001b[0mopen\u001b[0m\u001b[0;34m(\u001b[0m\u001b[0;34m'testfile.mine.txt'\u001b[0m\u001b[0;34m,\u001b[0m \u001b[0mmode\u001b[0m \u001b[0;34m=\u001b[0m \u001b[0;34m'w'\u001b[0m\u001b[0;34m)\u001b[0m \u001b[0;32mas\u001b[0m \u001b[0mmy_file_variable\u001b[0m\u001b[0;34m:\u001b[0m\u001b[0;34m\u001b[0m\u001b[0m\n\u001b[0;32m----> 2\u001b[0;31m     \u001b[0mcontents\u001b[0m \u001b[0;34m=\u001b[0m \u001b[0mmy_file_variable\u001b[0m\u001b[0;34m.\u001b[0m\u001b[0mread\u001b[0m\u001b[0;34m(\u001b[0m\u001b[0;34m)\u001b[0m\u001b[0;34m\u001b[0m\u001b[0m\n\u001b[0m\u001b[1;32m      3\u001b[0m \u001b[0;34m\u001b[0m\u001b[0m\n\u001b[1;32m      4\u001b[0m \u001b[0mprint\u001b[0m\u001b[0;34m(\u001b[0m\u001b[0mcontents\u001b[0m\u001b[0;34m)\u001b[0m\u001b[0;34m\u001b[0m\u001b[0m\n",
      "\u001b[0;31mUnsupportedOperation\u001b[0m: not readable"
     ]
    }
   ],
   "source": [
    "with open('testfile.mine.txt', mode = 'w') as my_file_variable:\n",
    "    contents = my_file_variable.read()\n",
    "    \n",
    "print(contents)"
   ]
  },
  {
   "cell_type": "markdown",
   "metadata": {},
   "source": [
    "## Modes\n",
    "#### mode='r' is readonly\n",
    "#### mode='w' is write only (will override or create new file)\n",
    "#### mode='a' is append\n",
    "#### mode='r+' is reading and writing\n",
    "#### mode='w+' is writing and reading (overrides existing file or create new file)"
   ]
  },
  {
   "cell_type": "code",
   "execution_count": 14,
   "metadata": {},
   "outputs": [
    {
     "name": "stdout",
     "output_type": "stream",
     "text": [
      "Overwriting test1.txt\n"
     ]
    }
   ],
   "source": [
    "%%writefile test1.txt\n",
    "line one\n",
    "line two\n",
    "line three"
   ]
  },
  {
   "cell_type": "code",
   "execution_count": 15,
   "metadata": {},
   "outputs": [
    {
     "name": "stdout",
     "output_type": "stream",
     "text": [
      "line one\n",
      "line two\n",
      "line three\n"
     ]
    }
   ],
   "source": [
    "with open('test1.txt', mode = 'r') as my_file_variable:\n",
    "    print(my_file_variable.read())"
   ]
  },
  {
   "cell_type": "code",
   "execution_count": 16,
   "metadata": {},
   "outputs": [
    {
     "name": "stdout",
     "output_type": "stream",
     "text": [
      "line one\n",
      "line two\n",
      "line three\n",
      "line four\n"
     ]
    }
   ],
   "source": [
    "with open('test1.txt', mode = 'a') as my_file_variable:\n",
    "    my_file_variable.write('\\nline four')\n",
    "\n",
    "with open('test1.txt', mode = 'r') as my_file_variable:\n",
    "    print(my_file_variable.read())"
   ]
  },
  {
   "cell_type": "code",
   "execution_count": 19,
   "metadata": {},
   "outputs": [
    {
     "name": "stdout",
     "output_type": "stream",
     "text": [
      "Hello World!\n"
     ]
    }
   ],
   "source": [
    "with open('test.non-existing.txt', 'w') as my_file_variable: # don't need to write 'mode='\n",
    "    my_file_variable.write('Hello World!')\n",
    "    \n",
    "with open('test.non-existing.txt', 'r') as my_file_variable: # don't need to write 'mode='\n",
    "    print(my_file_variable.read())"
   ]
  },
  {
   "cell_type": "code",
   "execution_count": null,
   "metadata": {},
   "outputs": [],
   "source": []
  }
 ],
 "metadata": {
  "kernelspec": {
   "display_name": "Python 3",
   "language": "python",
   "name": "python3"
  },
  "language_info": {
   "codemirror_mode": {
    "name": "ipython",
    "version": 3
   },
   "file_extension": ".py",
   "mimetype": "text/x-python",
   "name": "python",
   "nbconvert_exporter": "python",
   "pygments_lexer": "ipython3",
   "version": "3.6.5"
  }
 },
 "nbformat": 4,
 "nbformat_minor": 2
}
