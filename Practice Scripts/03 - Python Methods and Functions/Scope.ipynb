{
 "cells": [
  {
   "cell_type": "code",
   "execution_count": 2,
   "metadata": {},
   "outputs": [
    {
     "name": "stdout",
     "output_type": "stream",
     "text": [
      "5\n",
      "3\n",
      "5\n"
     ]
    }
   ],
   "source": [
    "x = 5\n",
    "\n",
    "def fun():\n",
    "    x = 3\n",
    "    print(x)\n",
    "\n",
    "print(x)\n",
    "fun()\n",
    "print(x)"
   ]
  },
  {
   "cell_type": "markdown",
   "metadata": {},
   "source": [
    "# LEGB Rule\n",
    "Checks for variables in this order:\n",
    " - __L:Local__ -- names assigned in functions, are not declared global in that function\n",
    " - __E:Enclosing function locals__ -- names in local scope of any and all enclosing functions, from inner to outer\n",
    " - __G:Global__ -- names assigned at top level of module file or declared global within file\n",
    " - __B:Built-in__ -- names preassigned in python or module (range, etc.)"
   ]
  },
  {
   "cell_type": "code",
   "execution_count": 5,
   "metadata": {},
   "outputs": [
    {
     "name": "stdout",
     "output_type": "stream",
     "text": [
      "Hello Sammy\n"
     ]
    }
   ],
   "source": [
    "name = 'GLOBAL'\n",
    "\n",
    "def greet():\n",
    "    name = 'Sammy'\n",
    "    def hello():\n",
    "        # checks for the name variable locally first, but can't find it\n",
    "        # checks for enclosing function locals, and finds the name = 'Sammy' variable and chooses that one\n",
    "        print('Hello ' + name)\n",
    "    hello()\n",
    "greet()"
   ]
  },
  {
   "cell_type": "code",
   "execution_count": 7,
   "metadata": {},
   "outputs": [
    {
     "name": "stdout",
     "output_type": "stream",
     "text": [
      "Hello GLOBAL\n"
     ]
    }
   ],
   "source": [
    "name = 'GLOBAL'\n",
    "\n",
    "def greet():\n",
    "    #name = 'Sammy'\n",
    "    def hello():\n",
    "        # checks for the name variable locally first, but can't find it\n",
    "        # checks for enclosing locals, and does not find it\n",
    "        # checks for it in the global namespace, and finds name = 'GLOBAL'\n",
    "        print('Hello ' + name)\n",
    "    hello()\n",
    "greet()"
   ]
  },
  {
   "cell_type": "code",
   "execution_count": 8,
   "metadata": {},
   "outputs": [
    {
     "name": "stdout",
     "output_type": "stream",
     "text": [
      "Hello LOCAL\n"
     ]
    }
   ],
   "source": [
    "name = 'GLOBAL'\n",
    "\n",
    "def greet():\n",
    "    #name = 'Sammy'\n",
    "    def hello():\n",
    "        name = 'LOCAL'\n",
    "        # checks for the name variable locally first, and finds name = 'LOCAL'\n",
    "        print('Hello ' + name)\n",
    "    hello()\n",
    "greet()"
   ]
  },
  {
   "cell_type": "code",
   "execution_count": 11,
   "metadata": {},
   "outputs": [
    {
     "name": "stdout",
     "output_type": "stream",
     "text": [
      "X is 50\n",
      "X is now 200\n"
     ]
    }
   ],
   "source": [
    "x = 50\n",
    "def func(x):\n",
    "    print(f\"X is {x}\")\n",
    "    x = 200 # Local change!\n",
    "    print(f\"X is now {x}\")\n",
    "    \n",
    "func(x)"
   ]
  },
  {
   "cell_type": "code",
   "execution_count": 15,
   "metadata": {},
   "outputs": [
    {
     "name": "stdout",
     "output_type": "stream",
     "text": [
      "X is 50\n",
      "X is now 200\n",
      "200\n"
     ]
    }
   ],
   "source": [
    "# to change the global x, use the global keyword\n",
    "x = 50\n",
    "def func():\n",
    "    global x\n",
    "    print(f\"X is {x}\")\n",
    "    x = 200 # Local change!\n",
    "    print(f\"X is now {x}\")\n",
    "    \n",
    "func()\n",
    "print(x)"
   ]
  },
  {
   "cell_type": "code",
   "execution_count": null,
   "metadata": {},
   "outputs": [],
   "source": []
  },
  {
   "cell_type": "code",
   "execution_count": null,
   "metadata": {},
   "outputs": [],
   "source": []
  }
 ],
 "metadata": {
  "kernelspec": {
   "display_name": "Python 3",
   "language": "python",
   "name": "python3"
  },
  "language_info": {
   "codemirror_mode": {
    "name": "ipython",
    "version": 3
   },
   "file_extension": ".py",
   "mimetype": "text/x-python",
   "name": "python",
   "nbconvert_exporter": "python",
   "pygments_lexer": "ipython3",
   "version": "3.6.5"
  }
 },
 "nbformat": 4,
 "nbformat_minor": 2
}
